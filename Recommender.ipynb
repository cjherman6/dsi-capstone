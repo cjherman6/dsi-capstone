{
 "cells": [
  {
   "cell_type": "code",
   "execution_count": 101,
   "metadata": {},
   "outputs": [],
   "source": [
    "import numpy as np\n",
    "import pandas as pd\n",
    "from sklearn.metrics.pairwise import euclidean_distances,cosine_similarity"
   ]
  },
  {
   "cell_type": "code",
   "execution_count": 102,
   "metadata": {},
   "outputs": [],
   "source": [
    "df = pd.read_csv('breed_attributes.csv',index_col='Unnamed: 0')"
   ]
  },
  {
   "cell_type": "code",
   "execution_count": 103,
   "metadata": {},
   "outputs": [
    {
     "data": {
      "text/html": [
       "<div>\n",
       "<style scoped>\n",
       "    .dataframe tbody tr th:only-of-type {\n",
       "        vertical-align: middle;\n",
       "    }\n",
       "\n",
       "    .dataframe tbody tr th {\n",
       "        vertical-align: top;\n",
       "    }\n",
       "\n",
       "    .dataframe thead th {\n",
       "        text-align: right;\n",
       "    }\n",
       "</style>\n",
       "<table border=\"1\" class=\"dataframe\">\n",
       "  <thead>\n",
       "    <tr style=\"text-align: right;\">\n",
       "      <th></th>\n",
       "      <th>Adaptability</th>\n",
       "      <th>All Around Friendliness</th>\n",
       "      <th>Exercise Needs</th>\n",
       "      <th>Health Grooming</th>\n",
       "      <th>Trainability</th>\n",
       "      <th>Adapts Well to Apartment Living</th>\n",
       "      <th>Affectionate with Family</th>\n",
       "      <th>Amount Of Shedding</th>\n",
       "      <th>Dog Friendly</th>\n",
       "      <th>Drooling Potential</th>\n",
       "      <th>...</th>\n",
       "      <th>Potential For Playfulness</th>\n",
       "      <th>Potential For Weight Gain</th>\n",
       "      <th>Prey Drive</th>\n",
       "      <th>Sensitivity Level</th>\n",
       "      <th>Size</th>\n",
       "      <th>Tendency To Bark Or Howl</th>\n",
       "      <th>Tolerates Being Alone</th>\n",
       "      <th>Tolerates Cold Weather</th>\n",
       "      <th>Tolerates Hot Weather</th>\n",
       "      <th>Wanderlust Potential</th>\n",
       "    </tr>\n",
       "  </thead>\n",
       "  <tbody>\n",
       "    <tr>\n",
       "      <th>affenpinscher</th>\n",
       "      <td>3</td>\n",
       "      <td>3</td>\n",
       "      <td>4</td>\n",
       "      <td>2</td>\n",
       "      <td>3</td>\n",
       "      <td>5</td>\n",
       "      <td>5</td>\n",
       "      <td>1</td>\n",
       "      <td>4</td>\n",
       "      <td>1</td>\n",
       "      <td>...</td>\n",
       "      <td>4</td>\n",
       "      <td>3</td>\n",
       "      <td>3</td>\n",
       "      <td>3</td>\n",
       "      <td>1</td>\n",
       "      <td>2</td>\n",
       "      <td>1</td>\n",
       "      <td>3</td>\n",
       "      <td>3</td>\n",
       "      <td>2</td>\n",
       "    </tr>\n",
       "    <tr>\n",
       "      <th>afghan-hound</th>\n",
       "      <td>4</td>\n",
       "      <td>4</td>\n",
       "      <td>4</td>\n",
       "      <td>2</td>\n",
       "      <td>3</td>\n",
       "      <td>5</td>\n",
       "      <td>5</td>\n",
       "      <td>4</td>\n",
       "      <td>4</td>\n",
       "      <td>1</td>\n",
       "      <td>...</td>\n",
       "      <td>4</td>\n",
       "      <td>1</td>\n",
       "      <td>5</td>\n",
       "      <td>5</td>\n",
       "      <td>4</td>\n",
       "      <td>2</td>\n",
       "      <td>2</td>\n",
       "      <td>5</td>\n",
       "      <td>5</td>\n",
       "      <td>5</td>\n",
       "    </tr>\n",
       "    <tr>\n",
       "      <th>american-staffordshire-terrier</th>\n",
       "      <td>2</td>\n",
       "      <td>4</td>\n",
       "      <td>4</td>\n",
       "      <td>3</td>\n",
       "      <td>4</td>\n",
       "      <td>2</td>\n",
       "      <td>4</td>\n",
       "      <td>2</td>\n",
       "      <td>2</td>\n",
       "      <td>3</td>\n",
       "      <td>...</td>\n",
       "      <td>4</td>\n",
       "      <td>2</td>\n",
       "      <td>3</td>\n",
       "      <td>3</td>\n",
       "      <td>3</td>\n",
       "      <td>4</td>\n",
       "      <td>2</td>\n",
       "      <td>2</td>\n",
       "      <td>3</td>\n",
       "      <td>3</td>\n",
       "    </tr>\n",
       "    <tr>\n",
       "      <th>australian-terrier</th>\n",
       "      <td>3</td>\n",
       "      <td>3</td>\n",
       "      <td>5</td>\n",
       "      <td>3</td>\n",
       "      <td>4</td>\n",
       "      <td>5</td>\n",
       "      <td>4</td>\n",
       "      <td>1</td>\n",
       "      <td>2</td>\n",
       "      <td>1</td>\n",
       "      <td>...</td>\n",
       "      <td>5</td>\n",
       "      <td>3</td>\n",
       "      <td>5</td>\n",
       "      <td>2</td>\n",
       "      <td>1</td>\n",
       "      <td>5</td>\n",
       "      <td>2</td>\n",
       "      <td>3</td>\n",
       "      <td>4</td>\n",
       "      <td>4</td>\n",
       "    </tr>\n",
       "    <tr>\n",
       "      <th>basenji</th>\n",
       "      <td>4</td>\n",
       "      <td>5</td>\n",
       "      <td>3</td>\n",
       "      <td>3</td>\n",
       "      <td>4</td>\n",
       "      <td>5</td>\n",
       "      <td>5</td>\n",
       "      <td>1</td>\n",
       "      <td>4</td>\n",
       "      <td>5</td>\n",
       "      <td>...</td>\n",
       "      <td>2</td>\n",
       "      <td>2</td>\n",
       "      <td>5</td>\n",
       "      <td>3</td>\n",
       "      <td>2</td>\n",
       "      <td>1</td>\n",
       "      <td>4</td>\n",
       "      <td>1</td>\n",
       "      <td>4</td>\n",
       "      <td>5</td>\n",
       "    </tr>\n",
       "    <tr>\n",
       "      <th>beagle</th>\n",
       "      <td>3</td>\n",
       "      <td>5</td>\n",
       "      <td>5</td>\n",
       "      <td>3</td>\n",
       "      <td>4</td>\n",
       "      <td>4</td>\n",
       "      <td>5</td>\n",
       "      <td>3</td>\n",
       "      <td>5</td>\n",
       "      <td>1</td>\n",
       "      <td>...</td>\n",
       "      <td>5</td>\n",
       "      <td>5</td>\n",
       "      <td>5</td>\n",
       "      <td>4</td>\n",
       "      <td>2</td>\n",
       "      <td>5</td>\n",
       "      <td>1</td>\n",
       "      <td>2</td>\n",
       "      <td>4</td>\n",
       "      <td>5</td>\n",
       "    </tr>\n",
       "    <tr>\n",
       "      <th>bedlington-terrier</th>\n",
       "      <td>4</td>\n",
       "      <td>5</td>\n",
       "      <td>4</td>\n",
       "      <td>3</td>\n",
       "      <td>4</td>\n",
       "      <td>4</td>\n",
       "      <td>5</td>\n",
       "      <td>5</td>\n",
       "      <td>4</td>\n",
       "      <td>1</td>\n",
       "      <td>...</td>\n",
       "      <td>5</td>\n",
       "      <td>3</td>\n",
       "      <td>5</td>\n",
       "      <td>3</td>\n",
       "      <td>3</td>\n",
       "      <td>3</td>\n",
       "      <td>3</td>\n",
       "      <td>4</td>\n",
       "      <td>3</td>\n",
       "      <td>4</td>\n",
       "    </tr>\n",
       "  </tbody>\n",
       "</table>\n",
       "<p>7 rows × 31 columns</p>\n",
       "</div>"
      ],
      "text/plain": [
       "                                 Adaptability   All Around Friendliness  \\\n",
       "affenpinscher                               3                         3   \n",
       "afghan-hound                                4                         4   \n",
       "american-staffordshire-terrier              2                         4   \n",
       "australian-terrier                          3                         3   \n",
       "basenji                                     4                         5   \n",
       "beagle                                      3                         5   \n",
       "bedlington-terrier                          4                         5   \n",
       "\n",
       "                                 Exercise Needs   Health Grooming  \\\n",
       "affenpinscher                                 4                 2   \n",
       "afghan-hound                                  4                 2   \n",
       "american-staffordshire-terrier                4                 3   \n",
       "australian-terrier                            5                 3   \n",
       "basenji                                       3                 3   \n",
       "beagle                                        5                 3   \n",
       "bedlington-terrier                            4                 3   \n",
       "\n",
       "                                 Trainability  \\\n",
       "affenpinscher                               3   \n",
       "afghan-hound                                3   \n",
       "american-staffordshire-terrier              4   \n",
       "australian-terrier                          4   \n",
       "basenji                                     4   \n",
       "beagle                                      4   \n",
       "bedlington-terrier                          4   \n",
       "\n",
       "                                Adapts Well to Apartment Living  \\\n",
       "affenpinscher                                                 5   \n",
       "afghan-hound                                                  5   \n",
       "american-staffordshire-terrier                                2   \n",
       "australian-terrier                                            5   \n",
       "basenji                                                       5   \n",
       "beagle                                                        4   \n",
       "bedlington-terrier                                            4   \n",
       "\n",
       "                                Affectionate with Family  Amount Of Shedding  \\\n",
       "affenpinscher                                          5                   1   \n",
       "afghan-hound                                           5                   4   \n",
       "american-staffordshire-terrier                         4                   2   \n",
       "australian-terrier                                     4                   1   \n",
       "basenji                                                5                   1   \n",
       "beagle                                                 5                   3   \n",
       "bedlington-terrier                                     5                   5   \n",
       "\n",
       "                                Dog Friendly  Drooling Potential  \\\n",
       "affenpinscher                              4                   1   \n",
       "afghan-hound                               4                   1   \n",
       "american-staffordshire-terrier             2                   3   \n",
       "australian-terrier                         2                   1   \n",
       "basenji                                    4                   5   \n",
       "beagle                                     5                   1   \n",
       "bedlington-terrier                         4                   1   \n",
       "\n",
       "                                        ...           \\\n",
       "affenpinscher                           ...            \n",
       "afghan-hound                            ...            \n",
       "american-staffordshire-terrier          ...            \n",
       "australian-terrier                      ...            \n",
       "basenji                                 ...            \n",
       "beagle                                  ...            \n",
       "bedlington-terrier                      ...            \n",
       "\n",
       "                                Potential For Playfulness  \\\n",
       "affenpinscher                                           4   \n",
       "afghan-hound                                            4   \n",
       "american-staffordshire-terrier                          4   \n",
       "australian-terrier                                      5   \n",
       "basenji                                                 2   \n",
       "beagle                                                  5   \n",
       "bedlington-terrier                                      5   \n",
       "\n",
       "                                Potential For Weight Gain  Prey Drive  \\\n",
       "affenpinscher                                           3           3   \n",
       "afghan-hound                                            1           5   \n",
       "american-staffordshire-terrier                          2           3   \n",
       "australian-terrier                                      3           5   \n",
       "basenji                                                 2           5   \n",
       "beagle                                                  5           5   \n",
       "bedlington-terrier                                      3           5   \n",
       "\n",
       "                                Sensitivity Level  Size  \\\n",
       "affenpinscher                                   3     1   \n",
       "afghan-hound                                    5     4   \n",
       "american-staffordshire-terrier                  3     3   \n",
       "australian-terrier                              2     1   \n",
       "basenji                                         3     2   \n",
       "beagle                                          4     2   \n",
       "bedlington-terrier                              3     3   \n",
       "\n",
       "                                Tendency To Bark Or Howl  \\\n",
       "affenpinscher                                          2   \n",
       "afghan-hound                                           2   \n",
       "american-staffordshire-terrier                         4   \n",
       "australian-terrier                                     5   \n",
       "basenji                                                1   \n",
       "beagle                                                 5   \n",
       "bedlington-terrier                                     3   \n",
       "\n",
       "                                Tolerates Being Alone  Tolerates Cold Weather  \\\n",
       "affenpinscher                                       1                       3   \n",
       "afghan-hound                                        2                       5   \n",
       "american-staffordshire-terrier                      2                       2   \n",
       "australian-terrier                                  2                       3   \n",
       "basenji                                             4                       1   \n",
       "beagle                                              1                       2   \n",
       "bedlington-terrier                                  3                       4   \n",
       "\n",
       "                                Tolerates Hot Weather  Wanderlust Potential  \n",
       "affenpinscher                                       3                     2  \n",
       "afghan-hound                                        5                     5  \n",
       "american-staffordshire-terrier                      3                     3  \n",
       "australian-terrier                                  4                     4  \n",
       "basenji                                             4                     5  \n",
       "beagle                                              4                     5  \n",
       "bedlington-terrier                                  3                     4  \n",
       "\n",
       "[7 rows x 31 columns]"
      ]
     },
     "execution_count": 103,
     "metadata": {},
     "output_type": "execute_result"
    }
   ],
   "source": [
    "df.head(7)"
   ]
  },
  {
   "cell_type": "code",
   "execution_count": 138,
   "metadata": {},
   "outputs": [],
   "source": [
    "def overall_recommender(breed,dist='euclidean'):\n",
    "    '''\n",
    "    Input: Name of breed (string)\n",
    "    Output: 5 Breeds with most similar temperaments according to dogtime.com ratings\n",
    "    '''\n",
    "    y = df.loc[[breed],:]\n",
    "    euc_dists = euclidean_distances(df.values,y.values)\n",
    "    euc_ind = np.argsort(euc_dists.flatten())\n",
    "    cos_dists = cosine_similarity(df.values,y.values)\n",
    "    cos_ind = np.argsort(cos_dists.flatten())\n",
    "    if dist == 'euclidean':\n",
    "        return [df.iloc[ind,:].name for ind in euc_ind][1:6]\n",
    "    elif dist == 'cosine':\n",
    "        return [df.iloc[ind,:].name for ind in cos_ind][1:6]"
   ]
  },
  {
   "cell_type": "code",
   "execution_count": 141,
   "metadata": {
    "scrolled": false
   },
   "outputs": [
    {
     "data": {
      "text/plain": [
       "['labrador-retriever',\n",
       " 'irish-setter',\n",
       " 'english-setter',\n",
       " 'newfoundland',\n",
       " 'brittany']"
      ]
     },
     "execution_count": 141,
     "metadata": {},
     "output_type": "execute_result"
    }
   ],
   "source": [
    "overall_recommender('golden-retriever')"
   ]
  },
  {
   "cell_type": "code",
   "execution_count": 142,
   "metadata": {
    "scrolled": false
   },
   "outputs": [
    {
     "data": {
      "text/plain": [
       "['australian-terrier', 'pekingese', 'xoloitzuintli', 'kuvasz', 'basenji']"
      ]
     },
     "execution_count": 142,
     "metadata": {},
     "output_type": "execute_result"
    }
   ],
   "source": [
    "overall_recommender('golden-retriever',dist='cosine')"
   ]
  },
  {
   "cell_type": "code",
   "execution_count": 143,
   "metadata": {},
   "outputs": [],
   "source": [
    "def predictions_recommender(breed,photo_list,dist='euclidean'):\n",
    "    '''\n",
    "    Input: Name of breed (string), List of dogs you're considering (list)\n",
    "    Output: Ordered list starting from most similar to least\n",
    "    '''\n",
    "    y = df.loc[[breed],:]\n",
    "    X = df.loc[photo_list,:]\n",
    "    euc_dists = euclidean_distances(X.values,y.values)\n",
    "    euc_ind = np.argsort(euc_dists.flatten())\n",
    "    cos_dists = cosine_similarity(X.values,y.values)\n",
    "    cos_ind = np.argsort(cos_dists.flatten())\n",
    "    if dist == 'euclidean':\n",
    "        return [X.iloc[ind,:].name for ind in euc_ind]\n",
    "    elif dist == 'cosine':\n",
    "        return [X.iloc[ind,:].name for ind in cos_ind]"
   ]
  },
  {
   "cell_type": "code",
   "execution_count": 144,
   "metadata": {},
   "outputs": [
    {
     "data": {
      "text/plain": [
       "['newfoundland',\n",
       " 'rottweiler',\n",
       " 'american-staffordshire-terrier',\n",
       " 'miniature-schnauzer']"
      ]
     },
     "execution_count": 144,
     "metadata": {},
     "output_type": "execute_result"
    }
   ],
   "source": [
    "photo_list = ['american-staffordshire-terrier','miniature-schnauzer',\n",
    "              'rottweiler','newfoundland']\n",
    "predictions_recommender('golden-retriever',photo_list)"
   ]
  },
  {
   "cell_type": "code",
   "execution_count": 145,
   "metadata": {},
   "outputs": [
    {
     "data": {
      "text/plain": [
       "['miniature-schnauzer',\n",
       " 'american-staffordshire-terrier',\n",
       " 'rottweiler',\n",
       " 'newfoundland']"
      ]
     },
     "execution_count": 145,
     "metadata": {},
     "output_type": "execute_result"
    }
   ],
   "source": [
    "predictions_recommender('golden-retriever',photo_list,dist='cosine')"
   ]
  },
  {
   "cell_type": "code",
   "execution_count": null,
   "metadata": {},
   "outputs": [],
   "source": []
  },
  {
   "cell_type": "code",
   "execution_count": 12,
   "metadata": {},
   "outputs": [
    {
     "data": {
      "text/plain": [
       "31"
      ]
     },
     "execution_count": 12,
     "metadata": {},
     "output_type": "execute_result"
    }
   ],
   "source": [
    "len(Y.columns)"
   ]
  },
  {
   "cell_type": "code",
   "execution_count": 13,
   "metadata": {},
   "outputs": [
    {
     "data": {
      "text/plain": [
       "Index([' Adaptability', ' All Around Friendliness', ' Exercise Needs',\n",
       "       ' Health Grooming', ' Trainability', 'Adapts Well to Apartment Living',\n",
       "       'Affectionate with Family', 'Amount Of Shedding', 'Dog Friendly',\n",
       "       'Drooling Potential', 'Easy To Groom', 'Easy To Train', 'Energy Level',\n",
       "       'Exercise Needs', 'Friendly Toward Strangers', 'General Health',\n",
       "       'Good For Novice Owners', 'Incredibly Kid Friendly Dogs',\n",
       "       'Intelligence', 'Intensity', 'Potential For Mouthiness',\n",
       "       'Potential For Playfulness', 'Potential For Weight Gain', 'Prey Drive',\n",
       "       'Sensitivity Level', 'Size', 'Tendency To Bark Or Howl',\n",
       "       'Tolerates Being Alone', 'Tolerates Cold Weather',\n",
       "       'Tolerates Hot Weather', 'Wanderlust Potential'],\n",
       "      dtype='object')"
      ]
     },
     "execution_count": 13,
     "metadata": {},
     "output_type": "execute_result"
    }
   ],
   "source": [
    "Y.columns"
   ]
  },
  {
   "cell_type": "markdown",
   "metadata": {},
   "source": [
    "Survey:\n",
    "    \n",
    "Adapts Well to Apartment Living: House or apartment?  House = 1 ; Apartment = 5\n",
    "Good For Novice Owners: Experience Training Dogs? Little: 5 Some: 3 Lots: 1\n",
    "Sensitivity Level: Hectic Life, young kids, low patience: Yes: 1 No: 5\n",
    "Tolerates Being Alone: How much time do you spend away from home? Little: 1 Some: 3 Lots: 5\n",
    "Tolerates Cold Weather: Live in a cold climate?: Yes: 5 No: 1\n",
    "Tolerates Hot Weather: Live in a hot climate?: Yes: 5 No: 1\n",
    "Affectionate with Family\n",
    "Incredibly Kid Friendly Dogs\n",
    "Have Children? \n",
    "Have other dogs?\n",
    "Active\n"
   ]
  }
 ],
 "metadata": {
  "kernelspec": {
   "display_name": "Python 3",
   "language": "python",
   "name": "python3"
  },
  "language_info": {
   "codemirror_mode": {
    "name": "ipython",
    "version": 3
   },
   "file_extension": ".py",
   "mimetype": "text/x-python",
   "name": "python",
   "nbconvert_exporter": "python",
   "pygments_lexer": "ipython3",
   "version": "3.6.5"
  }
 },
 "nbformat": 4,
 "nbformat_minor": 2
}
