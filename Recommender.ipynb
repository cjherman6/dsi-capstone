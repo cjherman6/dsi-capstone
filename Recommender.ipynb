{
 "cells": [
  {
   "cell_type": "code",
   "execution_count": 1,
   "metadata": {},
   "outputs": [],
   "source": [
    "import pickle\n",
    "import numpy as np\n",
    "import pandas as pd\n",
    "import matplotlib.pyplot as plt\n",
    "import seaborn as sns\n",
    "from sklearn.metrics.pairwise import euclidean_distances,cosine_similarity"
   ]
  },
  {
   "cell_type": "code",
   "execution_count": 2,
   "metadata": {},
   "outputs": [],
   "source": [
    "# pickle_in = open('app_data/translation_dict.pickle','rb')\n",
    "# translation_dict = pickle.load(pickle_in)"
   ]
  },
  {
   "cell_type": "code",
   "execution_count": 3,
   "metadata": {},
   "outputs": [],
   "source": [
    "df = pd.read_csv('app_data/breed_traits.csv',index_col='Unnamed: 0')"
   ]
  },
  {
   "cell_type": "code",
   "execution_count": 4,
   "metadata": {},
   "outputs": [],
   "source": [
    "#df.loc['jindo','Tendency To Bark Or Howl'] = 2.0"
   ]
  },
  {
   "cell_type": "code",
   "execution_count": 5,
   "metadata": {},
   "outputs": [],
   "source": [
    "#df.loc['jindo','Tendency To Bark Or Howl']"
   ]
  },
  {
   "cell_type": "code",
   "execution_count": 6,
   "metadata": {},
   "outputs": [],
   "source": [
    "#df.to_csv(r'/home/ubuntu/dog_app/app_data/breed_traits.csv')"
   ]
  },
  {
   "cell_type": "code",
   "execution_count": 7,
   "metadata": {},
   "outputs": [],
   "source": [
    "def overall_recommender(breed,dist='euclidean'):\n",
    "    '''\n",
    "    Input: Name of breed (string)\n",
    "    Output: 5 Breeds with most similar temperaments according to dogtime.com ratings\n",
    "    '''\n",
    "    y = df.loc[[breed],:]\n",
    "    euc_dists = euclidean_distances(df.values,y.values)\n",
    "    euc_ind = np.argsort(euc_dists.flatten())\n",
    "    cos_dists = cosine_similarity(df.values,y.values)\n",
    "    cos_ind = np.argsort(cos_dists.flatten())\n",
    "    if dist == 'euclidean':\n",
    "        return [df.iloc[ind,:].name for ind in euc_ind][1:6]\n",
    "    elif dist == 'cosine':\n",
    "        return [df.iloc[ind,:].name for ind in cos_ind][1:6]"
   ]
  },
  {
   "cell_type": "code",
   "execution_count": 8,
   "metadata": {
    "scrolled": false
   },
   "outputs": [
    {
     "data": {
      "text/plain": [
       "['labrador-retriever',\n",
       " 'irish-setter',\n",
       " 'english-setter',\n",
       " 'brittany',\n",
       " 'newfoundland']"
      ]
     },
     "execution_count": 8,
     "metadata": {},
     "output_type": "execute_result"
    }
   ],
   "source": [
    "overall_recommender('golden-retriever')"
   ]
  },
  {
   "cell_type": "code",
   "execution_count": 9,
   "metadata": {
    "scrolled": false
   },
   "outputs": [
    {
     "data": {
      "text/plain": [
       "['chinese-shar-pei',\n",
       " 'australian-terrier',\n",
       " 'pekingese',\n",
       " 'xoloitzuintli',\n",
       " 'kuvasz']"
      ]
     },
     "execution_count": 9,
     "metadata": {},
     "output_type": "execute_result"
    }
   ],
   "source": [
    "overall_recommender('golden-retriever',dist='cosine')"
   ]
  },
  {
   "cell_type": "code",
   "execution_count": 10,
   "metadata": {},
   "outputs": [],
   "source": [
    "def predictions_recommender(breed,photo_list,dist='euclidean'):\n",
    "    '''\n",
    "    Input: Name of breed (string), List of dogs you're considering (list)\n",
    "    Output: Ordered list starting from most similar to least\n",
    "    '''\n",
    "    y = df.loc[[breed],:]\n",
    "    X = df.loc[photo_list,:]\n",
    "    euc_dists = euclidean_distances(X.values,y.values)\n",
    "    euc_ind = np.argsort(euc_dists.flatten())\n",
    "    cos_dists = cosine_similarity(X.values,y.values)\n",
    "    cos_ind = np.argsort(cos_dists.flatten())\n",
    "    if dist == 'euclidean':\n",
    "        return [X.iloc[ind,:].name for ind in euc_ind]\n",
    "    elif dist == 'cosine':\n",
    "        return [X.iloc[ind,:].name for ind in cos_ind]"
   ]
  },
  {
   "cell_type": "code",
   "execution_count": 11,
   "metadata": {},
   "outputs": [
    {
     "data": {
      "text/plain": [
       "['newfoundland',\n",
       " 'rottweiler',\n",
       " 'american-staffordshire-terrier',\n",
       " 'miniature-schnauzer']"
      ]
     },
     "execution_count": 11,
     "metadata": {},
     "output_type": "execute_result"
    }
   ],
   "source": [
    "photo_list = ['american-staffordshire-terrier','miniature-schnauzer',\n",
    "              'rottweiler','newfoundland']\n",
    "predictions_recommender('golden-retriever',photo_list)"
   ]
  },
  {
   "cell_type": "code",
   "execution_count": 12,
   "metadata": {},
   "outputs": [
    {
     "data": {
      "text/plain": [
       "(4, 31)"
      ]
     },
     "execution_count": 12,
     "metadata": {},
     "output_type": "execute_result"
    }
   ],
   "source": [
    "X = df.loc[photo_list,:]\n",
    "X.shape"
   ]
  },
  {
   "cell_type": "code",
   "execution_count": 13,
   "metadata": {},
   "outputs": [
    {
     "data": {
      "text/plain": [
       "['miniature-schnauzer',\n",
       " 'american-staffordshire-terrier',\n",
       " 'rottweiler',\n",
       " 'newfoundland']"
      ]
     },
     "execution_count": 13,
     "metadata": {},
     "output_type": "execute_result"
    }
   ],
   "source": [
    "predictions_recommender('golden-retriever',photo_list,dist='cosine')"
   ]
  },
  {
   "cell_type": "code",
   "execution_count": 14,
   "metadata": {},
   "outputs": [],
   "source": [
    "Y = df.loc[['rottweiler'],:]"
   ]
  },
  {
   "cell_type": "code",
   "execution_count": 15,
   "metadata": {},
   "outputs": [
    {
     "data": {
      "text/plain": [
       "31"
      ]
     },
     "execution_count": 15,
     "metadata": {},
     "output_type": "execute_result"
    }
   ],
   "source": [
    "len(Y.columns)"
   ]
  },
  {
   "cell_type": "code",
   "execution_count": 16,
   "metadata": {},
   "outputs": [
    {
     "data": {
      "text/plain": [
       "Index([' Adaptability', ' All Around Friendliness', ' Exercise Needs',\n",
       "       ' Health Grooming', ' Trainability', 'Adapts Well to Apartment Living',\n",
       "       'Affectionate with Family', 'Amount Of Shedding', 'Dog Friendly',\n",
       "       'Drooling Potential', 'Easy To Groom', 'Easy To Train', 'Energy Level',\n",
       "       'Exercise Needs', 'Friendly Toward Strangers', 'General Health',\n",
       "       'Good For Novice Owners', 'Incredibly Kid Friendly Dogs',\n",
       "       'Intelligence', 'Intensity', 'Potential For Mouthiness',\n",
       "       'Potential For Playfulness', 'Potential For Weight Gain', 'Prey Drive',\n",
       "       'Sensitivity Level', 'Size', 'Tendency To Bark Or Howl',\n",
       "       'Tolerates Being Alone', 'Tolerates Cold Weather',\n",
       "       'Tolerates Hot Weather', 'Wanderlust Potential'],\n",
       "      dtype='object')"
      ]
     },
     "execution_count": 16,
     "metadata": {},
     "output_type": "execute_result"
    }
   ],
   "source": [
    "Y.columns"
   ]
  },
  {
   "cell_type": "markdown",
   "metadata": {},
   "source": [
    "Survey:\n",
    "    \n",
    "Adapts Well to Apartment Living: House or apartment?  House: 1 ; Apartment: 5\n",
    "\n",
    "Good For Novice Owners: Experience Training Dogs? Little: 5 Some: 3 Lots: 1\n",
    "\n",
    "Sensitivity Level: Hectic Life, young kids, low patience: Yes: 1 No: 5\n",
    "\n",
    "Tolerates Being Alone: How much time do you spend away from home? Little: 1 Some: 3 Lots: 5\n",
    "\n",
    "Tolerates Cold Weather: Live in a cold climate?: Yes: 5 No: 1\n",
    "\n",
    "Tolerates Hot Weather: Live in a hot climate?: Yes: 5 No: 1\n",
    "\n",
    "Affectionate with Family: How important is affection from your dog? Not: 1 Kind of: 3 Very: 5\n",
    "\n",
    "Incredibly Kid Friendly Dogs: Do you have kids? Yes: 5 No: 1\n",
    "\n",
    "Dog Friendly: Do you have other dogs?: Yes: 5 No: 1\n",
    "\n",
    "Friendly Toward Strangers: How social do you plan to be with your dog?: Not: 1 Some: 3 Very: 5\n",
    "\n",
    "Amount Of Shedding: Are you willing to deal with hair?: \n",
    "No: 1, A little: 3, I don't care: 5\n",
    "\n",
    "Drooling Potential: Are you willing to deal with drool?:\n",
    "No: 1, A little: 3, I don't care: 5\n",
    "\n",
    "Easy To Groom: Are you willing to groom your dog?:\n",
    "Yes: 1 Sometimes: 3 No: 5\n",
    "\n",
    "General Health: N/A\n",
    "\n",
    "Potential For Weight Gain: How active will you be with your dog?:\n",
    "Not very: 1 Somewhat: 3 Very: 5\n",
    "\n",
    "Size: Do you prefer small or big dogs?\n",
    "Small: 1, Don't care: 3, Big: 5\n",
    "\n",
    "Easy To Train: Experience with dogs, patient with training?:\n",
    "Yes: 1 Somewhat: 3 No: 5\n",
    "\n",
    "Intelligence: N/A\n",
    "\n",
    "Potential For Mouthiness: N/A\n",
    "\n",
    "Prey Drive: Have small dogs or pets(birds,hampsters)?\n",
    "Yes: 1 No: 5\n",
    "\n",
    "Tendency To Bark Or Howl: Does barking or howling bother you?:\n",
    "Yes: 1, A little: 3, No: 5\n",
    "\n",
    "Wanderlust Potential: N/A\n",
    "\n",
    "Energy Level: How active will you be with your dog?:\n",
    "Not very: 1 Somewhat: 3 Very: 5\n",
    "\n",
    "Intensity: Do you have kids or grandparents living with you?:\n",
    "Yes: 1 No: 5\n",
    "\n",
    "Exercise Needs: How active will you be with your dog?:\n",
    "Not very: 1 Somewhat: 3 Very: 5\n",
    "\n",
    "Potential For Playfulness: How active will you be with your dog?:\n",
    "Not very: 1 Somewhat: 3 Very: 5"
   ]
  },
  {
   "cell_type": "code",
   "execution_count": null,
   "metadata": {},
   "outputs": [],
   "source": []
  },
  {
   "cell_type": "code",
   "execution_count": null,
   "metadata": {},
   "outputs": [],
   "source": []
  },
  {
   "cell_type": "code",
   "execution_count": null,
   "metadata": {},
   "outputs": [],
   "source": []
  }
 ],
 "metadata": {
  "kernelspec": {
   "display_name": "Python 3",
   "language": "python",
   "name": "python3"
  },
  "language_info": {
   "codemirror_mode": {
    "name": "ipython",
    "version": 3
   },
   "file_extension": ".py",
   "mimetype": "text/x-python",
   "name": "python",
   "nbconvert_exporter": "python",
   "pygments_lexer": "ipython3",
   "version": "3.6.6"
  }
 },
 "nbformat": 4,
 "nbformat_minor": 2
}
