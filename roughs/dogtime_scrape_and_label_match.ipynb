{
 "cells": [
  {
   "cell_type": "code",
   "execution_count": 1,
   "metadata": {},
   "outputs": [],
   "source": [
    "import numpy as np\n",
    "import pandas as pd\n",
    "import requests\n",
    "from requests import get\n",
    "from bs4 import BeautifulSoup\n",
    "import pickle"
   ]
  },
  {
   "cell_type": "markdown",
   "metadata": {},
   "source": [
    "## dogtime.com webscrape\n",
    "\n",
    "#### Dogtime has information on over 200 breeds of dogs, including attributes related to adaptability, friendliness, trainability, exercise needs, etc. -- all with ratings from 1-5.  This will be very helpful in quantifying a breed by its traits."
   ]
  },
  {
   "cell_type": "code",
   "execution_count": 2,
   "metadata": {},
   "outputs": [],
   "source": [
    "url = 'https://dogtime.com/dog-breeds'\n",
    "# Get contents of webpage\n",
    "webpage = requests.get(url).content\n",
    "# Process html for scraping\n",
    "soup = BeautifulSoup(webpage,'html.parser')"
   ]
  },
  {
   "cell_type": "code",
   "execution_count": 3,
   "metadata": {},
   "outputs": [
    {
     "data": {
      "text/plain": [
       "<a class=\"post-title\" href=\"https://dogtime.com/dog-breeds/affenpinscher\">Affenpinscher</a>"
      ]
     },
     "execution_count": 3,
     "metadata": {},
     "output_type": "execute_result"
    }
   ],
   "source": [
    "# All breeds are located in an 'a' tag with a class that says 'post-title'\n",
    "soup.find(class_='post-title')"
   ]
  },
  {
   "cell_type": "code",
   "execution_count": 4,
   "metadata": {
    "scrolled": true
   },
   "outputs": [
    {
     "data": {
      "text/plain": [
       "'https://dogtime.com/dog-breeds/affenpinscher'"
      ]
     },
     "execution_count": 4,
     "metadata": {},
     "output_type": "execute_result"
    }
   ],
   "source": [
    "# Using find_all to get the html & name of every breed on dogtime.com\n",
    "breeds = soup.find_all(class_='post-title')\n",
    "# URL of the dog can be separated using this\n",
    "breeds[0]['href']"
   ]
  },
  {
   "cell_type": "code",
   "execution_count": 5,
   "metadata": {},
   "outputs": [
    {
     "data": {
      "text/plain": [
       "'affenpinscher'"
      ]
     },
     "execution_count": 5,
     "metadata": {},
     "output_type": "execute_result"
    }
   ],
   "source": [
    "# Breed can be split off and put into its own list for later comparison to the\n",
    "# dog classifier list\n",
    "breeds[0]['href'].split('/')[-1]"
   ]
  },
  {
   "cell_type": "code",
   "execution_count": 6,
   "metadata": {},
   "outputs": [
    {
     "data": {
      "text/plain": [
       "['https://dogtime.com/dog-breeds/affenpinscher',\n",
       " 'https://dogtime.com/dog-breeds/afghan-hound',\n",
       " 'https://dogtime.com/dog-breeds/airedale-terrier',\n",
       " 'https://dogtime.com/dog-breeds/akita',\n",
       " 'https://dogtime.com/dog-breeds/alaskan-klee-kai',\n",
       " 'https://dogtime.com/dog-breeds/alaskan-malamute',\n",
       " 'https://dogtime.com/dog-breeds/american-bulldog',\n",
       " 'https://dogtime.com/dog-breeds/american-english-coonhound',\n",
       " 'https://dogtime.com/dog-breeds/american-eskimo-dog',\n",
       " 'https://dogtime.com/dog-breeds/american-foxhound']"
      ]
     },
     "execution_count": 6,
     "metadata": {},
     "output_type": "execute_result"
    }
   ],
   "source": [
    "# List comprehension to get all urls on webpage\n",
    "breed_urls = [x['href'] for x in breeds]\n",
    "breed_urls[:10]"
   ]
  },
  {
   "cell_type": "code",
   "execution_count": 7,
   "metadata": {},
   "outputs": [
    {
     "data": {
      "text/plain": [
       "['affenpinscher',\n",
       " 'afghan-hound',\n",
       " 'airedale-terrier',\n",
       " 'akita',\n",
       " 'alaskan-klee-kai',\n",
       " 'alaskan-malamute',\n",
       " 'american-bulldog',\n",
       " 'american-english-coonhound',\n",
       " 'american-eskimo-dog',\n",
       " 'american-foxhound']"
      ]
     },
     "execution_count": 7,
     "metadata": {},
     "output_type": "execute_result"
    }
   ],
   "source": [
    "# List comprehension to get all dog names on webpage\n",
    "dogtime_breed_list = [x.split('/')[-1] for x in breed_urls]\n",
    "dogtime_breed_list[:10]"
   ]
  },
  {
   "cell_type": "code",
   "execution_count": 8,
   "metadata": {},
   "outputs": [],
   "source": [
    "def page_scrape(url):\n",
    "    '''\n",
    "    INPUT: web address\n",
    "    OUTPUT: Dictionary detailing dog attributes as keys and ratings as values\n",
    "    '''\n",
    "    output = {}\n",
    "    \n",
    "    # Download html content\n",
    "    response = get(url)\n",
    "    \n",
    "    # Use Beautiful Soup to clean html\n",
    "    html_soup = BeautifulSoup(response.text, 'html.parser')\n",
    "    \n",
    "    # Find the div containing the attributes and ratings, [0] makes sure it's not a list\n",
    "    content = html_soup.find_all('div', class_ = \"js-listing-box dashed-box characteristics-ratings\")\n",
    "    content = content[0]\n",
    "    \n",
    "    # Categories and subcategories are organized in a different way in the html\n",
    "    parent_ratings = content.find_all('div', class_=\"star-by-breed clearfix default-border-bottom default-margin-bottom default-padding-bottom parent-characteristic\")\n",
    "    child_ratings = content.find_all('div',class_=\"js-list-item item-expandable-content default-border-bottom default-margin-bottom default-padding-bottom star-by-breed child-characteristic\")\n",
    "    \n",
    "    for char in parent_ratings:\n",
    "        attribute = char.find('span', class_=\"characteristic item-trigger-title\").text\n",
    "        rating = int(char.find('span',class_='star')['class'][1][-1])\n",
    "        output[attribute] = rating\n",
    "\n",
    "    for char in child_ratings:\n",
    "        attribute = char.find('span',class_=\"characteristic item-trigger-title\").text\n",
    "        rating = int(char.find('span',class_=\"star\").text)\n",
    "        output[attribute] = rating        \n",
    "\n",
    "    return output"
   ]
  },
  {
   "cell_type": "code",
   "execution_count": 9,
   "metadata": {},
   "outputs": [
    {
     "data": {
      "text/plain": [
       "{' Adaptability': 3,\n",
       " ' All Around Friendliness': 3,\n",
       " ' Health Grooming': 2,\n",
       " ' Trainability': 3,\n",
       " ' Exercise Needs': 4,\n",
       " 'Adapts Well to Apartment Living': 5,\n",
       " 'Good For Novice Owners': 4,\n",
       " 'Sensitivity Level': 3,\n",
       " 'Tolerates Being Alone': 1,\n",
       " 'Tolerates Cold Weather': 3,\n",
       " 'Tolerates Hot Weather': 3,\n",
       " 'Affectionate with Family': 5,\n",
       " 'Incredibly Kid Friendly Dogs': 1,\n",
       " 'Dog Friendly': 4,\n",
       " 'Friendly Toward Strangers': 3,\n",
       " 'Amount Of Shedding': 1,\n",
       " 'Drooling Potential': 1,\n",
       " 'Easy To Groom': 3,\n",
       " 'General Health': 4,\n",
       " 'Potential For Weight Gain': 3,\n",
       " 'Size': 1,\n",
       " 'Easy To Train': 2,\n",
       " 'Intelligence': 4,\n",
       " 'Potential For Mouthiness': 4,\n",
       " 'Prey Drive': 3,\n",
       " 'Tendency To Bark Or Howl': 2,\n",
       " 'Wanderlust Potential': 2,\n",
       " 'Energy Level': 4,\n",
       " 'Intensity': 3,\n",
       " 'Exercise Needs': 3,\n",
       " 'Potential For Playfulness': 4}"
      ]
     },
     "execution_count": 9,
     "metadata": {},
     "output_type": "execute_result"
    }
   ],
   "source": [
    "# Attributes and accompanying ratings for 'affenpinscher'\n",
    "page_scrape('https://dogtime.com/dog-breeds/affenpinscher')"
   ]
  },
  {
   "cell_type": "code",
   "execution_count": 10,
   "metadata": {},
   "outputs": [],
   "source": [
    "def dogtime_scrape(url_list):\n",
    "    '''\n",
    "    Input: List of dogs urls to scrape website\n",
    "    Output: Dictionary: Keys are dog breed\n",
    "            Values are dictionarys with attributes as keys and\n",
    "            ratings as values\n",
    "    '''\n",
    "    output = {}\n",
    "    for url in url_list:\n",
    "        key = url.split('/')[-1]\n",
    "        try:\n",
    "            output[key] = page_scrape(url)\n",
    "        except:\n",
    "            #korean-jindo-dog & xoloitzcuintli brought up errors with a previous method\n",
    "            print(key)\n",
    "    return output"
   ]
  },
  {
   "cell_type": "code",
   "execution_count": 11,
   "metadata": {},
   "outputs": [],
   "source": [
    "data = dogtime_scrape(breed_urls)"
   ]
  },
  {
   "cell_type": "code",
   "execution_count": 30,
   "metadata": {},
   "outputs": [],
   "source": [
    "#data"
   ]
  },
  {
   "cell_type": "code",
   "execution_count": 13,
   "metadata": {},
   "outputs": [
    {
     "data": {
      "text/html": [
       "<div>\n",
       "<style scoped>\n",
       "    .dataframe tbody tr th:only-of-type {\n",
       "        vertical-align: middle;\n",
       "    }\n",
       "\n",
       "    .dataframe tbody tr th {\n",
       "        vertical-align: top;\n",
       "    }\n",
       "\n",
       "    .dataframe thead th {\n",
       "        text-align: right;\n",
       "    }\n",
       "</style>\n",
       "<table border=\"1\" class=\"dataframe\">\n",
       "  <thead>\n",
       "    <tr style=\"text-align: right;\">\n",
       "      <th></th>\n",
       "      <th>Adaptability</th>\n",
       "      <th>All Around Friendliness</th>\n",
       "      <th>Exercise Needs</th>\n",
       "      <th>Health Grooming</th>\n",
       "      <th>Trainability</th>\n",
       "      <th>Adapts Well to Apartment Living</th>\n",
       "      <th>Affectionate with Family</th>\n",
       "      <th>Amount Of Shedding</th>\n",
       "      <th>Dog Friendly</th>\n",
       "      <th>Drooling Potential</th>\n",
       "      <th>...</th>\n",
       "      <th>Potential For Playfulness</th>\n",
       "      <th>Potential For Weight Gain</th>\n",
       "      <th>Prey Drive</th>\n",
       "      <th>Sensitivity Level</th>\n",
       "      <th>Size</th>\n",
       "      <th>Tendency To Bark Or Howl</th>\n",
       "      <th>Tolerates Being Alone</th>\n",
       "      <th>Tolerates Cold Weather</th>\n",
       "      <th>Tolerates Hot Weather</th>\n",
       "      <th>Wanderlust Potential</th>\n",
       "    </tr>\n",
       "  </thead>\n",
       "  <tbody>\n",
       "    <tr>\n",
       "      <th>affenpinscher</th>\n",
       "      <td>3.0</td>\n",
       "      <td>3.0</td>\n",
       "      <td>4.0</td>\n",
       "      <td>2.0</td>\n",
       "      <td>3.0</td>\n",
       "      <td>5.0</td>\n",
       "      <td>5.0</td>\n",
       "      <td>1.0</td>\n",
       "      <td>4.0</td>\n",
       "      <td>1.0</td>\n",
       "      <td>...</td>\n",
       "      <td>4.0</td>\n",
       "      <td>3.0</td>\n",
       "      <td>3.0</td>\n",
       "      <td>3.0</td>\n",
       "      <td>1.0</td>\n",
       "      <td>2.0</td>\n",
       "      <td>1.0</td>\n",
       "      <td>3.0</td>\n",
       "      <td>3.0</td>\n",
       "      <td>2.0</td>\n",
       "    </tr>\n",
       "    <tr>\n",
       "      <th>afghan-hound</th>\n",
       "      <td>4.0</td>\n",
       "      <td>4.0</td>\n",
       "      <td>4.0</td>\n",
       "      <td>2.0</td>\n",
       "      <td>3.0</td>\n",
       "      <td>5.0</td>\n",
       "      <td>5.0</td>\n",
       "      <td>4.0</td>\n",
       "      <td>4.0</td>\n",
       "      <td>1.0</td>\n",
       "      <td>...</td>\n",
       "      <td>4.0</td>\n",
       "      <td>1.0</td>\n",
       "      <td>5.0</td>\n",
       "      <td>5.0</td>\n",
       "      <td>4.0</td>\n",
       "      <td>2.0</td>\n",
       "      <td>2.0</td>\n",
       "      <td>5.0</td>\n",
       "      <td>5.0</td>\n",
       "      <td>5.0</td>\n",
       "    </tr>\n",
       "    <tr>\n",
       "      <th>airedale-terrier</th>\n",
       "      <td>2.0</td>\n",
       "      <td>4.0</td>\n",
       "      <td>5.0</td>\n",
       "      <td>3.0</td>\n",
       "      <td>5.0</td>\n",
       "      <td>1.0</td>\n",
       "      <td>4.0</td>\n",
       "      <td>2.0</td>\n",
       "      <td>4.0</td>\n",
       "      <td>1.0</td>\n",
       "      <td>...</td>\n",
       "      <td>5.0</td>\n",
       "      <td>4.0</td>\n",
       "      <td>5.0</td>\n",
       "      <td>3.0</td>\n",
       "      <td>3.0</td>\n",
       "      <td>4.0</td>\n",
       "      <td>2.0</td>\n",
       "      <td>3.0</td>\n",
       "      <td>3.0</td>\n",
       "      <td>4.0</td>\n",
       "    </tr>\n",
       "    <tr>\n",
       "      <th>akita</th>\n",
       "      <td>3.0</td>\n",
       "      <td>2.0</td>\n",
       "      <td>4.0</td>\n",
       "      <td>4.0</td>\n",
       "      <td>4.0</td>\n",
       "      <td>2.0</td>\n",
       "      <td>5.0</td>\n",
       "      <td>5.0</td>\n",
       "      <td>1.0</td>\n",
       "      <td>5.0</td>\n",
       "      <td>...</td>\n",
       "      <td>5.0</td>\n",
       "      <td>4.0</td>\n",
       "      <td>4.0</td>\n",
       "      <td>5.0</td>\n",
       "      <td>4.0</td>\n",
       "      <td>5.0</td>\n",
       "      <td>1.0</td>\n",
       "      <td>5.0</td>\n",
       "      <td>2.0</td>\n",
       "      <td>4.0</td>\n",
       "    </tr>\n",
       "    <tr>\n",
       "      <th>alaskan-klee-kai</th>\n",
       "      <td>3.0</td>\n",
       "      <td>3.0</td>\n",
       "      <td>4.0</td>\n",
       "      <td>3.0</td>\n",
       "      <td>4.0</td>\n",
       "      <td>3.0</td>\n",
       "      <td>4.0</td>\n",
       "      <td>4.0</td>\n",
       "      <td>2.0</td>\n",
       "      <td>2.0</td>\n",
       "      <td>...</td>\n",
       "      <td>4.0</td>\n",
       "      <td>2.0</td>\n",
       "      <td>5.0</td>\n",
       "      <td>4.0</td>\n",
       "      <td>2.0</td>\n",
       "      <td>3.0</td>\n",
       "      <td>2.0</td>\n",
       "      <td>5.0</td>\n",
       "      <td>2.0</td>\n",
       "      <td>4.0</td>\n",
       "    </tr>\n",
       "    <tr>\n",
       "      <th>alaskan-malamute</th>\n",
       "      <td>2.0</td>\n",
       "      <td>4.0</td>\n",
       "      <td>5.0</td>\n",
       "      <td>3.0</td>\n",
       "      <td>4.0</td>\n",
       "      <td>1.0</td>\n",
       "      <td>4.0</td>\n",
       "      <td>5.0</td>\n",
       "      <td>2.0</td>\n",
       "      <td>1.0</td>\n",
       "      <td>...</td>\n",
       "      <td>5.0</td>\n",
       "      <td>3.0</td>\n",
       "      <td>4.0</td>\n",
       "      <td>4.0</td>\n",
       "      <td>4.0</td>\n",
       "      <td>5.0</td>\n",
       "      <td>1.0</td>\n",
       "      <td>5.0</td>\n",
       "      <td>2.0</td>\n",
       "      <td>5.0</td>\n",
       "    </tr>\n",
       "    <tr>\n",
       "      <th>american-bulldog</th>\n",
       "      <td>2.0</td>\n",
       "      <td>3.0</td>\n",
       "      <td>4.0</td>\n",
       "      <td>3.0</td>\n",
       "      <td>3.0</td>\n",
       "      <td>1.0</td>\n",
       "      <td>5.0</td>\n",
       "      <td>1.0</td>\n",
       "      <td>2.0</td>\n",
       "      <td>4.0</td>\n",
       "      <td>...</td>\n",
       "      <td>4.0</td>\n",
       "      <td>2.0</td>\n",
       "      <td>4.0</td>\n",
       "      <td>4.0</td>\n",
       "      <td>4.0</td>\n",
       "      <td>2.0</td>\n",
       "      <td>1.0</td>\n",
       "      <td>2.0</td>\n",
       "      <td>2.0</td>\n",
       "      <td>3.0</td>\n",
       "    </tr>\n",
       "    <tr>\n",
       "      <th>american-english-coonhound</th>\n",
       "      <td>3.0</td>\n",
       "      <td>5.0</td>\n",
       "      <td>5.0</td>\n",
       "      <td>3.0</td>\n",
       "      <td>5.0</td>\n",
       "      <td>1.0</td>\n",
       "      <td>5.0</td>\n",
       "      <td>3.0</td>\n",
       "      <td>4.0</td>\n",
       "      <td>1.0</td>\n",
       "      <td>...</td>\n",
       "      <td>5.0</td>\n",
       "      <td>3.0</td>\n",
       "      <td>5.0</td>\n",
       "      <td>5.0</td>\n",
       "      <td>3.0</td>\n",
       "      <td>5.0</td>\n",
       "      <td>2.0</td>\n",
       "      <td>4.0</td>\n",
       "      <td>4.0</td>\n",
       "      <td>5.0</td>\n",
       "    </tr>\n",
       "    <tr>\n",
       "      <th>american-eskimo-dog</th>\n",
       "      <td>4.0</td>\n",
       "      <td>5.0</td>\n",
       "      <td>4.0</td>\n",
       "      <td>3.0</td>\n",
       "      <td>4.0</td>\n",
       "      <td>5.0</td>\n",
       "      <td>5.0</td>\n",
       "      <td>5.0</td>\n",
       "      <td>5.0</td>\n",
       "      <td>1.0</td>\n",
       "      <td>...</td>\n",
       "      <td>5.0</td>\n",
       "      <td>4.0</td>\n",
       "      <td>3.0</td>\n",
       "      <td>4.0</td>\n",
       "      <td>2.0</td>\n",
       "      <td>4.0</td>\n",
       "      <td>2.0</td>\n",
       "      <td>5.0</td>\n",
       "      <td>3.0</td>\n",
       "      <td>3.0</td>\n",
       "    </tr>\n",
       "    <tr>\n",
       "      <th>american-foxhound</th>\n",
       "      <td>2.0</td>\n",
       "      <td>5.0</td>\n",
       "      <td>5.0</td>\n",
       "      <td>4.0</td>\n",
       "      <td>4.0</td>\n",
       "      <td>1.0</td>\n",
       "      <td>4.0</td>\n",
       "      <td>3.0</td>\n",
       "      <td>5.0</td>\n",
       "      <td>1.0</td>\n",
       "      <td>...</td>\n",
       "      <td>5.0</td>\n",
       "      <td>5.0</td>\n",
       "      <td>4.0</td>\n",
       "      <td>2.0</td>\n",
       "      <td>3.0</td>\n",
       "      <td>5.0</td>\n",
       "      <td>1.0</td>\n",
       "      <td>4.0</td>\n",
       "      <td>4.0</td>\n",
       "      <td>5.0</td>\n",
       "    </tr>\n",
       "  </tbody>\n",
       "</table>\n",
       "<p>10 rows × 31 columns</p>\n",
       "</div>"
      ],
      "text/plain": [
       "                             Adaptability   All Around Friendliness  \\\n",
       "affenpinscher                         3.0                       3.0   \n",
       "afghan-hound                          4.0                       4.0   \n",
       "airedale-terrier                      2.0                       4.0   \n",
       "akita                                 3.0                       2.0   \n",
       "alaskan-klee-kai                      3.0                       3.0   \n",
       "alaskan-malamute                      2.0                       4.0   \n",
       "american-bulldog                      2.0                       3.0   \n",
       "american-english-coonhound            3.0                       5.0   \n",
       "american-eskimo-dog                   4.0                       5.0   \n",
       "american-foxhound                     2.0                       5.0   \n",
       "\n",
       "                             Exercise Needs   Health Grooming   Trainability  \\\n",
       "affenpinscher                           4.0               2.0            3.0   \n",
       "afghan-hound                            4.0               2.0            3.0   \n",
       "airedale-terrier                        5.0               3.0            5.0   \n",
       "akita                                   4.0               4.0            4.0   \n",
       "alaskan-klee-kai                        4.0               3.0            4.0   \n",
       "alaskan-malamute                        5.0               3.0            4.0   \n",
       "american-bulldog                        4.0               3.0            3.0   \n",
       "american-english-coonhound              5.0               3.0            5.0   \n",
       "american-eskimo-dog                     4.0               3.0            4.0   \n",
       "american-foxhound                       5.0               4.0            4.0   \n",
       "\n",
       "                            Adapts Well to Apartment Living  \\\n",
       "affenpinscher                                           5.0   \n",
       "afghan-hound                                            5.0   \n",
       "airedale-terrier                                        1.0   \n",
       "akita                                                   2.0   \n",
       "alaskan-klee-kai                                        3.0   \n",
       "alaskan-malamute                                        1.0   \n",
       "american-bulldog                                        1.0   \n",
       "american-english-coonhound                              1.0   \n",
       "american-eskimo-dog                                     5.0   \n",
       "american-foxhound                                       1.0   \n",
       "\n",
       "                            Affectionate with Family  Amount Of Shedding  \\\n",
       "affenpinscher                                    5.0                 1.0   \n",
       "afghan-hound                                     5.0                 4.0   \n",
       "airedale-terrier                                 4.0                 2.0   \n",
       "akita                                            5.0                 5.0   \n",
       "alaskan-klee-kai                                 4.0                 4.0   \n",
       "alaskan-malamute                                 4.0                 5.0   \n",
       "american-bulldog                                 5.0                 1.0   \n",
       "american-english-coonhound                       5.0                 3.0   \n",
       "american-eskimo-dog                              5.0                 5.0   \n",
       "american-foxhound                                4.0                 3.0   \n",
       "\n",
       "                            Dog Friendly  Drooling Potential  \\\n",
       "affenpinscher                        4.0                 1.0   \n",
       "afghan-hound                         4.0                 1.0   \n",
       "airedale-terrier                     4.0                 1.0   \n",
       "akita                                1.0                 5.0   \n",
       "alaskan-klee-kai                     2.0                 2.0   \n",
       "alaskan-malamute                     2.0                 1.0   \n",
       "american-bulldog                     2.0                 4.0   \n",
       "american-english-coonhound           4.0                 1.0   \n",
       "american-eskimo-dog                  5.0                 1.0   \n",
       "american-foxhound                    5.0                 1.0   \n",
       "\n",
       "                                    ...           Potential For Playfulness  \\\n",
       "affenpinscher                       ...                                 4.0   \n",
       "afghan-hound                        ...                                 4.0   \n",
       "airedale-terrier                    ...                                 5.0   \n",
       "akita                               ...                                 5.0   \n",
       "alaskan-klee-kai                    ...                                 4.0   \n",
       "alaskan-malamute                    ...                                 5.0   \n",
       "american-bulldog                    ...                                 4.0   \n",
       "american-english-coonhound          ...                                 5.0   \n",
       "american-eskimo-dog                 ...                                 5.0   \n",
       "american-foxhound                   ...                                 5.0   \n",
       "\n",
       "                            Potential For Weight Gain  Prey Drive  \\\n",
       "affenpinscher                                     3.0         3.0   \n",
       "afghan-hound                                      1.0         5.0   \n",
       "airedale-terrier                                  4.0         5.0   \n",
       "akita                                             4.0         4.0   \n",
       "alaskan-klee-kai                                  2.0         5.0   \n",
       "alaskan-malamute                                  3.0         4.0   \n",
       "american-bulldog                                  2.0         4.0   \n",
       "american-english-coonhound                        3.0         5.0   \n",
       "american-eskimo-dog                               4.0         3.0   \n",
       "american-foxhound                                 5.0         4.0   \n",
       "\n",
       "                            Sensitivity Level  Size  Tendency To Bark Or Howl  \\\n",
       "affenpinscher                             3.0   1.0                       2.0   \n",
       "afghan-hound                              5.0   4.0                       2.0   \n",
       "airedale-terrier                          3.0   3.0                       4.0   \n",
       "akita                                     5.0   4.0                       5.0   \n",
       "alaskan-klee-kai                          4.0   2.0                       3.0   \n",
       "alaskan-malamute                          4.0   4.0                       5.0   \n",
       "american-bulldog                          4.0   4.0                       2.0   \n",
       "american-english-coonhound                5.0   3.0                       5.0   \n",
       "american-eskimo-dog                       4.0   2.0                       4.0   \n",
       "american-foxhound                         2.0   3.0                       5.0   \n",
       "\n",
       "                            Tolerates Being Alone  Tolerates Cold Weather  \\\n",
       "affenpinscher                                 1.0                     3.0   \n",
       "afghan-hound                                  2.0                     5.0   \n",
       "airedale-terrier                              2.0                     3.0   \n",
       "akita                                         1.0                     5.0   \n",
       "alaskan-klee-kai                              2.0                     5.0   \n",
       "alaskan-malamute                              1.0                     5.0   \n",
       "american-bulldog                              1.0                     2.0   \n",
       "american-english-coonhound                    2.0                     4.0   \n",
       "american-eskimo-dog                           2.0                     5.0   \n",
       "american-foxhound                             1.0                     4.0   \n",
       "\n",
       "                            Tolerates Hot Weather  Wanderlust Potential  \n",
       "affenpinscher                                 3.0                   2.0  \n",
       "afghan-hound                                  5.0                   5.0  \n",
       "airedale-terrier                              3.0                   4.0  \n",
       "akita                                         2.0                   4.0  \n",
       "alaskan-klee-kai                              2.0                   4.0  \n",
       "alaskan-malamute                              2.0                   5.0  \n",
       "american-bulldog                              2.0                   3.0  \n",
       "american-english-coonhound                    4.0                   5.0  \n",
       "american-eskimo-dog                           3.0                   3.0  \n",
       "american-foxhound                             4.0                   5.0  \n",
       "\n",
       "[10 rows x 31 columns]"
      ]
     },
     "execution_count": 13,
     "metadata": {},
     "output_type": "execute_result"
    }
   ],
   "source": [
    "# Convert dictionary into a readable dataframe\n",
    "traits_df = pd.DataFrame(data).T\n",
    "# Switch breeds from columns to rows; switch attributes from rows to columns\n",
    "traits_df.head(10)"
   ]
  },
  {
   "cell_type": "code",
   "execution_count": 14,
   "metadata": {},
   "outputs": [],
   "source": [
    "#Save data to .csv\n",
    "traits_df.to_csv(r'/Users/Chris/Desktop/Galvanize/dsi-capstone/breed_traits.csv')"
   ]
  },
  {
   "cell_type": "markdown",
   "metadata": {},
   "source": [
    "## Matching Kaggle Photo Labels to dogtime.com Labels\n",
    "\n",
    "#### As a baseline model, I'll be using a photo classifier trained on photos from a kaggle competition that predicts a dogs breed by its photo, which came from the Stanford Dogs Dataset.  \n",
    "\n",
    "#### The issue is the prediction output (i.e. name of the breed predicted) is different from the above matrix.\n",
    "\n",
    "#### Example: the trained classifier would output 'mexican_hairless', but dogtime labels it as 'Xoloitzcuintli'"
   ]
  },
  {
   "cell_type": "code",
   "execution_count": 15,
   "metadata": {},
   "outputs": [],
   "source": [
    "kaggle_labels = 'labels.csv'"
   ]
  },
  {
   "cell_type": "code",
   "execution_count": 16,
   "metadata": {},
   "outputs": [],
   "source": [
    "kaggle_labels_df = pd.read_csv(kaggle_labels)"
   ]
  },
  {
   "cell_type": "code",
   "execution_count": 17,
   "metadata": {},
   "outputs": [
    {
     "data": {
      "text/html": [
       "<div>\n",
       "<style scoped>\n",
       "    .dataframe tbody tr th:only-of-type {\n",
       "        vertical-align: middle;\n",
       "    }\n",
       "\n",
       "    .dataframe tbody tr th {\n",
       "        vertical-align: top;\n",
       "    }\n",
       "\n",
       "    .dataframe thead th {\n",
       "        text-align: right;\n",
       "    }\n",
       "</style>\n",
       "<table border=\"1\" class=\"dataframe\">\n",
       "  <thead>\n",
       "    <tr style=\"text-align: right;\">\n",
       "      <th></th>\n",
       "      <th>id</th>\n",
       "      <th>breed</th>\n",
       "    </tr>\n",
       "  </thead>\n",
       "  <tbody>\n",
       "    <tr>\n",
       "      <th>0</th>\n",
       "      <td>000bec180eb18c7604dcecc8fe0dba07</td>\n",
       "      <td>boston_bull</td>\n",
       "    </tr>\n",
       "    <tr>\n",
       "      <th>1</th>\n",
       "      <td>001513dfcb2ffafc82cccf4d8bbaba97</td>\n",
       "      <td>dingo</td>\n",
       "    </tr>\n",
       "    <tr>\n",
       "      <th>2</th>\n",
       "      <td>001cdf01b096e06d78e9e5112d419397</td>\n",
       "      <td>pekinese</td>\n",
       "    </tr>\n",
       "    <tr>\n",
       "      <th>3</th>\n",
       "      <td>00214f311d5d2247d5dfe4fe24b2303d</td>\n",
       "      <td>bluetick</td>\n",
       "    </tr>\n",
       "    <tr>\n",
       "      <th>4</th>\n",
       "      <td>0021f9ceb3235effd7fcde7f7538ed62</td>\n",
       "      <td>golden_retriever</td>\n",
       "    </tr>\n",
       "  </tbody>\n",
       "</table>\n",
       "</div>"
      ],
      "text/plain": [
       "                                 id             breed\n",
       "0  000bec180eb18c7604dcecc8fe0dba07       boston_bull\n",
       "1  001513dfcb2ffafc82cccf4d8bbaba97             dingo\n",
       "2  001cdf01b096e06d78e9e5112d419397          pekinese\n",
       "3  00214f311d5d2247d5dfe4fe24b2303d          bluetick\n",
       "4  0021f9ceb3235effd7fcde7f7538ed62  golden_retriever"
      ]
     },
     "execution_count": 17,
     "metadata": {},
     "output_type": "execute_result"
    }
   ],
   "source": [
    "kaggle_labels_df.head()"
   ]
  },
  {
   "cell_type": "code",
   "execution_count": 18,
   "metadata": {},
   "outputs": [],
   "source": [
    "prediction_output = sorted(kaggle_labels_df['breed'].unique())"
   ]
  },
  {
   "cell_type": "code",
   "execution_count": 19,
   "metadata": {
    "scrolled": true
   },
   "outputs": [
    {
     "data": {
      "text/plain": [
       "120"
      ]
     },
     "execution_count": 19,
     "metadata": {},
     "output_type": "execute_result"
    }
   ],
   "source": [
    "len(prediction_output)"
   ]
  },
  {
   "cell_type": "code",
   "execution_count": 20,
   "metadata": {},
   "outputs": [
    {
     "data": {
      "text/plain": [
       "['affenpinscher',\n",
       " 'afghan_hound',\n",
       " 'african_hunting_dog',\n",
       " 'airedale',\n",
       " 'american_staffordshire_terrier',\n",
       " 'appenzeller',\n",
       " 'australian_terrier',\n",
       " 'basenji',\n",
       " 'basset',\n",
       " 'beagle',\n",
       " 'bedlington_terrier',\n",
       " 'bernese_mountain_dog',\n",
       " 'black-and-tan_coonhound',\n",
       " 'blenheim_spaniel',\n",
       " 'bloodhound']"
      ]
     },
     "execution_count": 20,
     "metadata": {},
     "output_type": "execute_result"
    }
   ],
   "source": [
    "prediction_output[:15]"
   ]
  },
  {
   "cell_type": "code",
   "execution_count": 21,
   "metadata": {},
   "outputs": [
    {
     "data": {
      "text/plain": [
       "['affenpinscher',\n",
       " 'afghan-hound',\n",
       " 'airedale-terrier',\n",
       " 'akita',\n",
       " 'alaskan-klee-kai',\n",
       " 'alaskan-malamute',\n",
       " 'american-bulldog',\n",
       " 'american-english-coonhound',\n",
       " 'american-eskimo-dog',\n",
       " 'american-foxhound',\n",
       " 'american-pit-bull-terrier',\n",
       " 'american-staffordshire-terrier',\n",
       " 'american-water-spaniel',\n",
       " 'anatolian-shepherd-dog',\n",
       " 'appenzeller-sennenhunde']"
      ]
     },
     "execution_count": 21,
     "metadata": {},
     "output_type": "execute_result"
    }
   ],
   "source": [
    "dogtime_breed_list[:15]"
   ]
  },
  {
   "cell_type": "code",
   "execution_count": 22,
   "metadata": {},
   "outputs": [],
   "source": [
    "copy = prediction_output.copy()"
   ]
  },
  {
   "cell_type": "code",
   "execution_count": 23,
   "metadata": {
    "scrolled": false
   },
   "outputs": [
    {
     "name": "stdout",
     "output_type": "stream",
     "text": [
      "120\n"
     ]
    }
   ],
   "source": [
    "print(len(copy))"
   ]
  },
  {
   "cell_type": "code",
   "execution_count": 24,
   "metadata": {},
   "outputs": [],
   "source": [
    "translation_dict = {}"
   ]
  },
  {
   "cell_type": "code",
   "execution_count": 25,
   "metadata": {},
   "outputs": [
    {
     "name": "stdout",
     "output_type": "stream",
     "text": [
      "found: 21,not found: 99\n",
      "found: 54,not found: 66\n",
      "found: 81,not found: 39\n",
      "found: 82,not found: 38\n",
      "found: 90,not found: 30\n",
      "found: 96,not found: 24\n",
      "found: 96,not found: 24\n",
      "found: 96,not found: 24\n",
      "found: 98,not found: 22\n"
     ]
    },
    {
     "data": {
      "text/plain": [
       "{'affenpinscher': 'affenpinscher',\n",
       " 'basenji': 'basenji',\n",
       " 'beagle': 'beagle',\n",
       " 'bloodhound': 'bloodhound',\n",
       " 'borzoi': 'borzoi',\n",
       " 'boxer': 'boxer',\n",
       " 'briard': 'briard',\n",
       " 'chihuahua': 'chihuahua',\n",
       " 'collie': 'collie',\n",
       " 'keeshond': 'keeshond',\n",
       " 'komondor': 'komondor',\n",
       " 'newfoundland': 'newfoundland',\n",
       " 'otterhound': 'otterhound',\n",
       " 'pomeranian': 'pomeranian',\n",
       " 'rottweiler': 'rottweiler',\n",
       " 'saluki': 'saluki',\n",
       " 'schipperke': 'schipperke',\n",
       " 'shih-tzu': 'shih-tzu',\n",
       " 'vizsla': 'vizsla',\n",
       " 'weimaraner': 'weimaraner',\n",
       " 'whippet': 'whippet',\n",
       " 'afghan_hound': 'afghan-hound',\n",
       " 'american_staffordshire_terrier': 'american-staffordshire-terrier',\n",
       " 'australian_terrier': 'australian-terrier',\n",
       " 'bedlington_terrier': 'bedlington-terrier',\n",
       " 'black-and-tan_coonhound': 'black-and-tan-coonhound',\n",
       " 'border_collie': 'border-collie',\n",
       " 'bouvier_des_flandres': 'bouvier-des-flandres',\n",
       " 'chesapeake_bay_retriever': 'chesapeake-bay-retriever',\n",
       " 'cocker_spaniel': 'cocker-spaniel',\n",
       " 'english_foxhound': 'english-foxhound',\n",
       " 'flat-coated_retriever': 'flat-coated-retriever',\n",
       " 'giant_schnauzer': 'giant-schnauzer',\n",
       " 'gordon_setter': 'gordon-setter',\n",
       " 'great_pyrenees': 'great-pyrenees',\n",
       " 'ibizan_hound': 'ibizan-hound',\n",
       " 'irish_terrier': 'irish-terrier',\n",
       " 'irish_wolfhound': 'irish-wolfhound',\n",
       " 'kerry_blue_terrier': 'kerry-blue-terrier',\n",
       " 'labrador_retriever': 'labrador-retriever',\n",
       " 'miniature_pinscher': 'miniature-pinscher',\n",
       " 'miniature_schnauzer': 'miniature-schnauzer',\n",
       " 'norwegian_elkhound': 'norwegian-elkhound',\n",
       " 'old_english_sheepdog': 'old-english-sheepdog',\n",
       " 'pug': 'pug',\n",
       " 'rhodesian_ridgeback': 'rhodesian-ridgeback',\n",
       " 'samoyed': 'samoyed',\n",
       " 'scottish_deerhound': 'scottish-deerhound',\n",
       " 'shetland_sheepdog': 'shetland-sheepdog',\n",
       " 'silky_terrier': 'silky-terrier',\n",
       " 'standard_schnauzer': 'standard-schnauzer',\n",
       " 'tibetan_mastiff': 'tibetan-mastiff',\n",
       " 'welsh_springer_spaniel': 'welsh-springer-spaniel',\n",
       " 'yorkshire_terrier': 'yorkshire-terrier',\n",
       " 'airedale': 'airedale-terrier',\n",
       " 'basset': 'basset-hound',\n",
       " 'bernese_mountain_dog': 'petit-basset-griffon-vendeen',\n",
       " 'bluetick': 'bluetick-coonhound',\n",
       " 'cairn': 'cairn-terrier',\n",
       " 'chow': 'chow-chow',\n",
       " 'curly-coated_retriever': 'curly-coated-retriever',\n",
       " 'doberman': 'doberman-pinscher',\n",
       " 'english_springer': 'english-springer-spaniel',\n",
       " 'eskimo_dog': 'american-eskimo-dog',\n",
       " 'german_shepherd': 'german-shepherd-dog',\n",
       " 'golden_retriever': 'golden-retriever',\n",
       " 'greater_swiss_mountain_dog': 'greater-swiss-mountain-dog',\n",
       " 'irish_setter': 'irish-setter',\n",
       " 'italian_greyhound': 'italian-greyhound',\n",
       " 'kelpie': 'australian-kelpie',\n",
       " 'lakeland_terrier': 'lakeland-terrier',\n",
       " 'lhasa': 'lhasa-apso',\n",
       " 'malinois': 'belgian-malinois',\n",
       " 'norfolk_terrier': 'norfolk-terrier',\n",
       " 'papillon': 'papillon',\n",
       " 'pembroke': 'pembroke-welsh-corgi',\n",
       " 'saint_bernard': 'saint-bernard',\n",
       " 'sealyham_terrier': 'sealyham-terrier',\n",
       " 'soft-coated_wheaten_terrier': 'soft-coated-wheaten-terrier',\n",
       " 'sussex_spaniel': 'sussex-spaniel',\n",
       " 'west_highland_white_terrier': 'west-highland-white-terrier',\n",
       " 'kuvasz': 'kuvasz',\n",
       " 'border_terrier': 'border-terrier',\n",
       " 'english_setter': 'english-setter',\n",
       " 'french_bulldog': 'french-bulldog',\n",
       " 'great_dane': 'great-dane',\n",
       " 'irish_water_spaniel': 'irish-water-spaniel',\n",
       " 'norwich_terrier': 'norwich-terrier',\n",
       " 'siberian_husky': 'siberian-husky',\n",
       " 'tibetan_terrier': 'tibetan-terrier',\n",
       " 'appenzeller': 'appenzeller-sennenhunde',\n",
       " 'cardigan': 'cardigan-welsh-corgi',\n",
       " 'dandie_dinmont': 'dandie-dinmont-terrier',\n",
       " 'entlebucher': 'entlebucher-mountain-dog',\n",
       " 'leonberg': 'leonberger',\n",
       " 'redbone': 'redbone-coonhound',\n",
       " 'clumber': 'clumber-spaniel',\n",
       " 'malamute': 'alaskan-malamute'}"
      ]
     },
     "execution_count": 25,
     "metadata": {},
     "output_type": "execute_result"
    }
   ],
   "source": [
    "while len(copy)>23:\n",
    "    \n",
    "    # 'beagle' = 'beagle'\n",
    "    for i,dog in enumerate(copy):\n",
    "        if dog in dogtime_breed_list:\n",
    "            key = copy.pop(i)\n",
    "            translation_dict[key] = key\n",
    "\n",
    "    print('found: {},not found: {}'.format(len(translation_dict.keys()),len(copy)))\n",
    "\n",
    "    # 'afghan_hound' doesn't equal 'afghan-hound' until you change '_' to '-'\n",
    "    for i,dog in enumerate(copy):\n",
    "        if dog.lower().replace(' ','-').replace('_','-') in dogtime_breed_list:\n",
    "            key = copy.pop(i)\n",
    "            translation_dict[key] = key.lower().replace(' ','-').replace('_','-')\n",
    "\n",
    "    print('found: {},not found: {}'.format(len(translation_dict.keys()),len(copy)))\n",
    "    \n",
    "    # 'doberman' is in but doesn't equel 'doberman-pinscher'\n",
    "    for i,dog in enumerate(copy):\n",
    "        for dog2 in dogtime_breed_list:\n",
    "            if dog.lower().replace(' ','-').replace('_','-') in dog2:\n",
    "                key = copy.pop(i)\n",
    "                translation_dict[key] = dog2\n",
    "\n",
    "    print('found: {},not found: {}'.format(len(translation_dict.keys()),len(copy)))\n",
    "\n",
    "translation_dict"
   ]
  },
  {
   "cell_type": "code",
   "execution_count": 26,
   "metadata": {},
   "outputs": [
    {
     "data": {
      "text/plain": [
       "117"
      ]
     },
     "execution_count": 26,
     "metadata": {},
     "output_type": "execute_result"
    }
   ],
   "source": [
    "# Edge cases: 'mexican_hairless' is the same breed as 'xoloitzuintli', \n",
    "# or pekingese and pekinese are spellt differently\n",
    "\n",
    "translation_dict['bernese_mountain_dog'] = 'bernese-mountain-dog'\n",
    "translation_dict['blenheim_spaniel'] = 'cavalier-king-charles-spaniel'\n",
    "translation_dict['boston_bull'] = 'boston-terrier'\n",
    "translation_dict['brabancon_griffon'] = 'brussels-griffon'\n",
    "translation_dict['brittany_spaniel'] = 'brittany'\n",
    "translation_dict['bull_mastiff'] = 'bullmastiff'\n",
    "translation_dict['german_short-haired_pointer'] = 'german-shorthaired-pointer'\n",
    "translation_dict['groenendael'] = 'belgian-sheepdog'\n",
    "translation_dict['japanese_spaniel'] = 'japanese-chin'\n",
    "translation_dict['maltese_dog'] = 'maltese'\n",
    "translation_dict['mexican_hairless'] = 'xoloitzuintli'\n",
    "translation_dict['miniature_poodle'] = 'poodle'\n",
    "translation_dict['pekinese'] = 'pekinese'\n",
    "translation_dict['scotch_terrier'] = 'scotch-terrier'\n",
    "translation_dict['staffordshire_bullterrier'] = 'staffordshire-bull-terrier'\n",
    "translation_dict['standard_poodle'] = 'poodle'\n",
    "translation_dict['toy_poodle'] = 'poodle'\n",
    "translation_dict['toy_terrier'] = 'toy-fox-terrier'\n",
    "translation_dict['walker_hound'] = 'treeing-walker-coonhound'\n",
    "translation_dict['wire-haired_fox_terrier'] = 'fox-terrier'\n",
    "len(translation_dict.keys())"
   ]
  },
  {
   "cell_type": "code",
   "execution_count": 27,
   "metadata": {},
   "outputs": [
    {
     "data": {
      "text/plain": [
       "120"
      ]
     },
     "execution_count": 27,
     "metadata": {},
     "output_type": "execute_result"
    }
   ],
   "source": [
    "# The last 3 remaining are all wild animals, which are not on dogtime.com: \n",
    "translation_dict['african_hunting_dog'] = 'african_hunting_dog'\n",
    "translation_dict['dhole'] = 'dhole'\n",
    "translation_dict['dingo'] = 'dingo'\n",
    "len(translation_dict.keys())"
   ]
  },
  {
   "cell_type": "code",
   "execution_count": 28,
   "metadata": {},
   "outputs": [
    {
     "data": {
      "text/plain": [
       "<function BufferedWriter.close>"
      ]
     },
     "execution_count": 28,
     "metadata": {},
     "output_type": "execute_result"
    }
   ],
   "source": [
    "# Save dict object through pickle\n",
    "pickle_out = open('translation_dict.pickle','wb')\n",
    "pickle.dump(translation_dict, pickle_out)\n",
    "pickle_out.close"
   ]
  },
  {
   "cell_type": "code",
   "execution_count": 29,
   "metadata": {},
   "outputs": [],
   "source": [
    "# Code to re-open pickled dictionary\n",
    "\n",
    "# pickle_in = open('translation_dict.pickle','rb')\n",
    "# translation_dict = pickle.load(pickle_in)"
   ]
  }
 ],
 "metadata": {
  "kernelspec": {
   "display_name": "Python 3",
   "language": "python",
   "name": "python3"
  },
  "language_info": {
   "codemirror_mode": {
    "name": "ipython",
    "version": 3
   },
   "file_extension": ".py",
   "mimetype": "text/x-python",
   "name": "python",
   "nbconvert_exporter": "python",
   "pygments_lexer": "ipython3",
   "version": "3.6.5"
  }
 },
 "nbformat": 4,
 "nbformat_minor": 2
}
